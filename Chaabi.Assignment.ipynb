{
 "cells": [
  {
   "cell_type": "markdown",
   "id": "57a46068",
   "metadata": {},
   "source": [
    "# Question 1"
   ]
  },
  {
   "cell_type": "code",
   "execution_count": 40,
   "id": "35fe7b9b",
   "metadata": {},
   "outputs": [
    {
     "name": "stdout",
     "output_type": "stream",
     "text": [
      "7\n",
      "5\n",
      "416\n",
      "54\n",
      "21\n",
      "6135\n",
      "15\n",
      "7411\n",
      "Unsorted list:  [5, 416, 54, 21, 6135, 15, 7411]\n",
      "Sorted List:  [5, 15, 21, 54, 416, 6135, 7411]\n"
     ]
    }
   ],
   "source": [
    "import numpy as np\n",
    "n = int(input())\n",
    "input_list = []\n",
    "\n",
    "\n",
    "for i in range(n):\n",
    "    element = int(input())\n",
    "    input_list.append(element)\n",
    "    \n",
    "\n",
    "print(\"Unsorted list: \",input_list)\n",
    "input_array = np.array(input_list)\n",
    "\n",
    "\n",
    "output = selection_sort(input_array)\n",
    "print(\"Sorted List: \",list(output))\n",
    "\n"
   ]
  },
  {
   "cell_type": "code",
   "execution_count": 3,
   "id": "a4cc2627",
   "metadata": {},
   "outputs": [],
   "source": [
    "def selection_sort(array):\n",
    "    n = len(array)\n",
    "    \n",
    "    \n",
    "    for i in range(n-1):\n",
    "        min_i = i\n",
    "        \n",
    "        for j in range(i+1,n):\n",
    "            \n",
    "            if array[j]<array[min_i]:\n",
    "                min_i = j\n",
    "                \n",
    "        array[i],array[min_i] = array[min_i],array[i]\n",
    "    return array\n",
    "    "
   ]
  },
  {
   "cell_type": "markdown",
   "id": "c805e9cb",
   "metadata": {},
   "source": [
    "# Question2"
   ]
  },
  {
   "cell_type": "code",
   "execution_count": 1,
   "id": "5421be12",
   "metadata": {},
   "outputs": [],
   "source": [
    "def get_file_type(extension_type_list, filenames):\n",
    "    file_type_dict = {}\n",
    "    extension_type_pairs = extension_type_list.split(';')\n",
    "\n",
    "    \n",
    "    extension_type_dict = {}\n",
    "    for pair in extension_type_pairs:\n",
    "        extension, file_type = pair.split(',')\n",
    "        extension_type_dict[extension] = file_type\n",
    "\n",
    "    \n",
    "    for filename in filenames:\n",
    "        if '.' in filename:\n",
    "            extension = filename.split('.')[-1]\n",
    "            file_type = extension_type_dict.get(extension, 'unknown')\n",
    "        else:\n",
    "            file_type = 'unknown'\n",
    "\n",
    "        file_type_dict[filename] = file_type\n",
    "\n",
    "    return file_type_dict\n"
   ]
  },
  {
   "cell_type": "code",
   "execution_count": 2,
   "id": "5ea82e35",
   "metadata": {},
   "outputs": [
    {
     "name": "stdout",
     "output_type": "stream",
     "text": [
      "{'abc.jpg': 'image', 'xyz.xls': 'spreadsheet', 'text.csv': 'unknown', '123': 'unknown'}\n"
     ]
    }
   ],
   "source": [
    "extension_type_list = \"xls,spreadsheet;xlsx,spreadsheet;jpg,image\"\n",
    "filenames = [\"abc.jpg\", \"xyz.xls\", \"text.csv\", \"123\"]\n",
    "\n",
    "result = get_file_type(extension_type_list, filenames)\n",
    "print(result)"
   ]
  },
  {
   "cell_type": "markdown",
   "id": "6d4f4d8b",
   "metadata": {},
   "source": [
    "# Question 3"
   ]
  },
  {
   "cell_type": "code",
   "execution_count": 4,
   "id": "b13e00fb",
   "metadata": {},
   "outputs": [],
   "source": [
    "def sort_list_of_dicts(data, key):\n",
    "    sorted_data = sorted(data, key=lambda x: x[key])\n",
    "    return sorted_data"
   ]
  },
  {
   "cell_type": "code",
   "execution_count": 5,
   "id": "e7a50974",
   "metadata": {},
   "outputs": [
    {
     "name": "stdout",
     "output_type": "stream",
     "text": [
      "color\n",
      "[{'fruit': 'blueberry', 'color': 'blue'}, {'fruit': 'orange', 'color': 'orange'}, {'fruit': 'apple', 'color': 'red'}, {'fruit': 'banana', 'color': 'yellow'}]\n"
     ]
    }
   ],
   "source": [
    "data = [\n",
    "    {\"fruit\": \"orange\", \"color\": \"orange\"},\n",
    "    {\"fruit\": \"apple\", \"color\": \"red\"},\n",
    "    {\"fruit\": \"banana\", \"color\": \"yellow\"},\n",
    "    {\"fruit\": \"blueberry\", \"color\": \"blue\"}\n",
    "]\n",
    "key = input()\n",
    "\n",
    "result = sort_list_of_dicts(data, key)\n",
    "print(result)"
   ]
  },
  {
   "cell_type": "markdown",
   "id": "6aa5a4bd",
   "metadata": {},
   "source": [
    "# Question 4"
   ]
  },
  {
   "cell_type": "code",
   "execution_count": 6,
   "id": "bb81f0ca",
   "metadata": {},
   "outputs": [],
   "source": [
    "def switch_keys_values(dictionary):\n",
    "    return {value: key for key, value in dictionary.items()}\n"
   ]
  },
  {
   "cell_type": "code",
   "execution_count": 7,
   "id": "ab8da58b",
   "metadata": {},
   "outputs": [
    {
     "name": "stdout",
     "output_type": "stream",
     "text": [
      "{'value1': 'key1', 'value2': 'key2', 'value3': 'key3', 'value4': 'key4', 'value5': 'key5'}\n"
     ]
    }
   ],
   "source": [
    "input_dict = {\n",
    "    \"key1\": \"value1\",\n",
    "    \"key2\": \"value2\",\n",
    "    \"key3\": \"value3\",\n",
    "    \"key4\": \"value4\",\n",
    "    \"key5\": \"value5\"\n",
    "}\n",
    "\n",
    "output_dict = switch_keys_values(input_dict)\n",
    "print(output_dict)\n"
   ]
  },
  {
   "cell_type": "markdown",
   "id": "5227c386",
   "metadata": {},
   "source": [
    "# Question 5"
   ]
  },
  {
   "cell_type": "code",
   "execution_count": 8,
   "id": "963ffdd7",
   "metadata": {},
   "outputs": [],
   "source": [
    "def compare_lists(list1, list2):\n",
    "    common_elements = list(set(list1) & set(list2))\n",
    "    not_common_elements = list(set(list1) ^ set(list2))\n",
    "    return common_elements, not_common_elements"
   ]
  },
  {
   "cell_type": "code",
   "execution_count": 9,
   "id": "a9ab63f3",
   "metadata": {},
   "outputs": [
    {
     "name": "stdout",
     "output_type": "stream",
     "text": [
      "Common elements: ['Attack On Titan', 'One Piece']\n",
      "Not common elements: ['One Punch Man', 'The Devil is a Part Timer!', 'Death Note', 'Bleach', 'Full Metal Alchemist', 'Dragon Ball Z', \"Stein's Gate\", 'Code Geass', 'Sword Art Online']\n"
     ]
    }
   ],
   "source": [
    "Mainstream = [\"One Punch Man\", \"Attack On Titan\", \"One Piece\", \"Sword Art Online\", \"Bleach\", \"Dragon Ball Z\", \"One Piece\"]\n",
    "must_watch = [\"Full Metal Alchemist\", \"Code Geass\", \"Death Note\", \"Stein's Gate\", \"The Devil is a Part Timer!\", \"One Piece\", \"Attack On Titan\"]\n",
    "\n",
    "common, not_common = compare_lists(Mainstream, must_watch)\n",
    "print(\"Common elements:\", common)\n",
    "print(\"Not common elements:\", not_common)"
   ]
  },
  {
   "cell_type": "markdown",
   "id": "32ee588a",
   "metadata": {},
   "source": [
    "# Question 6"
   ]
  },
  {
   "cell_type": "code",
   "execution_count": 10,
   "id": "e15b6f4b",
   "metadata": {},
   "outputs": [],
   "source": [
    "def get_every_other_sublist(lst, start_index, end_index):\n",
    "    sub_list = lst[start_index:end_index+1:2]\n",
    "    return sub_list"
   ]
  },
  {
   "cell_type": "code",
   "execution_count": 11,
   "id": "0a246292",
   "metadata": {},
   "outputs": [
    {
     "name": "stdout",
     "output_type": "stream",
     "text": [
      "[5, 11, 17, 23]\n"
     ]
    }
   ],
   "source": [
    "input_list = [2, 3, 5, 7, 11, 13, 17, 19, 23, 29, 31, 37, 41]\n",
    "start_index = 2\n",
    "end_index = 9\n",
    "\n",
    "result = get_every_other_sublist(input_list, start_index, end_index)\n",
    "print(result)"
   ]
  },
  {
   "cell_type": "markdown",
   "id": "95e95813",
   "metadata": {},
   "source": [
    "# Question 7"
   ]
  },
  {
   "cell_type": "code",
   "execution_count": 12,
   "id": "2335575f",
   "metadata": {},
   "outputs": [],
   "source": [
    "factorial = lambda n: 1 if n == 0 else n * factorial(n-1)"
   ]
  },
  {
   "cell_type": "code",
   "execution_count": 13,
   "id": "0f83f57f",
   "metadata": {},
   "outputs": [
    {
     "name": "stdout",
     "output_type": "stream",
     "text": [
      "10\n",
      "3628800\n"
     ]
    }
   ],
   "source": [
    "num = int(input())\n",
    "result = factorial(num)\n",
    "print(result)"
   ]
  },
  {
   "cell_type": "markdown",
   "id": "d83edd6f",
   "metadata": {},
   "source": [
    "# Question 8\n"
   ]
  },
  {
   "cell_type": "code",
   "execution_count": 52,
   "id": "20bcbe3e",
   "metadata": {},
   "outputs": [
    {
     "name": "stdout",
     "output_type": "stream",
     "text": [
      "{'a': 1, 'b': 2, 'c': 3, 'd': 4, 'e': 5}\n"
     ]
    }
   ],
   "source": [
    "A0 = dict(zip(('a', 'b', 'c', 'd', 'e'), (1, 2, 3, 4, 5)))\n",
    "print(A0)\n",
    "#It creates a dictionary where the keys are the elements from ('a', 'b', 'c', 'd', 'e') and the values are the corresponding elements from (1, 2, 3, 4, 5)."
   ]
  },
  {
   "cell_type": "code",
   "execution_count": 53,
   "id": "92340714",
   "metadata": {},
   "outputs": [
    {
     "name": "stdout",
     "output_type": "stream",
     "text": [
      "range(0, 10)\n"
     ]
    }
   ],
   "source": [
    "A1 = range(10)\n",
    "print(A1)\n",
    "# It creates a range object that represents the numbers from 0 to 9"
   ]
  },
  {
   "cell_type": "code",
   "execution_count": 54,
   "id": "62470f33",
   "metadata": {},
   "outputs": [
    {
     "name": "stdout",
     "output_type": "stream",
     "text": [
      "[]\n"
     ]
    }
   ],
   "source": [
    "A2 = sorted([i for i in A1 if i in A0])\n",
    "print(A2)\n",
    "#It filters the numbers in A1 based on whether they are present as values in A0, and then sorts the resulting list."
   ]
  },
  {
   "cell_type": "code",
   "execution_count": 55,
   "id": "5b668f36",
   "metadata": {},
   "outputs": [
    {
     "name": "stdout",
     "output_type": "stream",
     "text": [
      "[1, 2, 3, 4, 5]\n"
     ]
    }
   ],
   "source": [
    "A3 = sorted([A0[s] for s in A0])\n",
    "print(A3)\n",
    "# It retrieves the values from A0 and creates a new list, which is then sorted."
   ]
  },
  {
   "cell_type": "code",
   "execution_count": 56,
   "id": "6cd0d4b4",
   "metadata": {},
   "outputs": [
    {
     "name": "stdout",
     "output_type": "stream",
     "text": [
      "[1, 2, 3, 4, 5]\n"
     ]
    }
   ],
   "source": [
    "A4 = [i for i in A1 if i in A3]\n",
    "print(A4)\n",
    "# It filters the numbers in A1 based on whether they are present in A3."
   ]
  },
  {
   "cell_type": "code",
   "execution_count": 57,
   "id": "e6e25a14",
   "metadata": {},
   "outputs": [
    {
     "name": "stdout",
     "output_type": "stream",
     "text": [
      "{0: 0, 1: 1, 2: 4, 3: 9, 4: 16, 5: 25, 6: 36, 7: 49, 8: 64, 9: 81}\n"
     ]
    }
   ],
   "source": [
    "A5 = {i: i*i for i in A1}\n",
    "print(A5)\n",
    "#It creates a dictionary where the keys are the numbers in A1, and the values are the squares of those numbers."
   ]
  },
  {
   "cell_type": "code",
   "execution_count": 58,
   "id": "bd0b14ff",
   "metadata": {},
   "outputs": [
    {
     "name": "stdout",
     "output_type": "stream",
     "text": [
      "[[0, 0], [1, 1], [2, 4], [3, 9], [4, 16], [5, 25], [6, 36], [7, 49], [8, 64], [9, 81]]\n"
     ]
    }
   ],
   "source": [
    "A6 = [[i, i*i] for i in A1]\n",
    "print(A6)\n",
    "#It creates a list of lists where each inner list contains a number from A1 and its square."
   ]
  },
  {
   "cell_type": "code",
   "execution_count": 59,
   "id": "3fe5c49e",
   "metadata": {},
   "outputs": [
    {
     "name": "stdout",
     "output_type": "stream",
     "text": [
      "21\n"
     ]
    }
   ],
   "source": [
    "from functools import reduce\n",
    "A7 = reduce(lambda x, y: x + y, [10, 23, -45, 33])\n",
    "print(A7)\n",
    "#It calculates the sum of the elements in the given list using the reduce(). output will be 21"
   ]
  },
  {
   "cell_type": "code",
   "execution_count": 64,
   "id": "16ece107",
   "metadata": {},
   "outputs": [
    {
     "name": "stdout",
     "output_type": "stream",
     "text": [
      "[2, 4, 6, 8]\n"
     ]
    }
   ],
   "source": [
    "A8 = map(lambda x: x * 2, [1, 2, 3, 4])\n",
    "print(list(A8))\n",
    "#A8 will be <map object at ...> and [2, 4, 6, 8] in list form. It creates a map object that multiplies each element in the given list by 2."
   ]
  },
  {
   "cell_type": "code",
   "execution_count": 63,
   "id": "cd1f9ab5",
   "metadata": {},
   "outputs": [
    {
     "name": "stdout",
     "output_type": "stream",
     "text": [
      "['want', 'learn', 'python']\n"
     ]
    }
   ],
   "source": [
    "A9 = filter(lambda x: len(x) > 3, [\"I\", \"want\", \"to\", \"learn\", \"python\"])\n",
    "print(list(A9))\n",
    "#A9 will be filter object at 0x7f8dada21b70 and ['want', 'learn', 'python']in list form. It filters the strings from the given list based on their length being greater than 3."
   ]
  },
  {
   "cell_type": "markdown",
   "id": "3ab5be18",
   "metadata": {},
   "source": [
    "So, the final values of A0, A1, ..., An are:\n",
    "A0: {'a': 1, 'b': 2, 'c': 3, 'd': 4, 'e': 5}\n",
    "A1: range(0, 10)\n",
    "A2: [1, 2, 3, 4, 5]\n",
    "A3: [1, 2, 3, 4, 5]\n",
    "A4: [1, 2, 3, 4, 5]\n",
    "A5: {0: 0, 1: 1, 2: 4, 3: 9, 4: 16, 5: 25, 6: 36, 7: 49, 8: 64, 9: 81}\n",
    "A6: [[0, 0], [1, 1], [2, 4], [3, 9], [4, 16], [5, 25], [6, 36], [7, 49], [8, 64], [9, 81]]\n",
    "A7: 21\n",
    "A8: <map object at ...>\n",
    "A9: ['want', 'learn', 'python']"
   ]
  },
  {
   "cell_type": "markdown",
   "id": "765898f7",
   "metadata": {},
   "source": [
    "# Question 9"
   ]
  },
  {
   "cell_type": "code",
   "execution_count": 29,
   "id": "c0600470",
   "metadata": {},
   "outputs": [],
   "source": [
    "from datetime import datetime, timedelta\n",
    "\n",
    "def check_date_difference(from_date, to_date, difference):\n",
    "    date_format = \"%y-%m-%d\"\n",
    "    from_date_obj = datetime.strptime(from_date, date_format)\n",
    "    to_date_obj = datetime.strptime(to_date, date_format)\n",
    "    date_diff = abs((to_date_obj - from_date_obj).days)\n",
    "    \n",
    "    return date_diff < difference\n"
   ]
  },
  {
   "cell_type": "code",
   "execution_count": 32,
   "id": "00b3028e",
   "metadata": {},
   "outputs": [
    {
     "name": "stdout",
     "output_type": "stream",
     "text": [
      "False\n"
     ]
    }
   ],
   "source": [
    "from_date = '21-05-01'\n",
    "to_date = '22-05-10'\n",
    "difference = 102\n",
    "\n",
    "result = check_date_difference(from_date, to_date, difference)\n",
    "print(result)"
   ]
  },
  {
   "cell_type": "markdown",
   "id": "cc8093dc",
   "metadata": {},
   "source": [
    "# Question 10"
   ]
  },
  {
   "cell_type": "code",
   "execution_count": 33,
   "id": "4d4ef28f",
   "metadata": {},
   "outputs": [],
   "source": [
    "from datetime import datetime, timedelta\n",
    "\n",
    "def get_date_before(date, n):\n",
    "    date_format = \"%y-%m-%d\"\n",
    "    date_obj = datetime.strptime(date, date_format)\n",
    "    date_before = date_obj - timedelta(days=n)\n",
    "    return date_before.strftime(date_format)"
   ]
  },
  {
   "cell_type": "code",
   "execution_count": 34,
   "id": "51fb2645",
   "metadata": {},
   "outputs": [
    {
     "name": "stdout",
     "output_type": "stream",
     "text": [
      "16-11-29\n"
     ]
    }
   ],
   "source": [
    "date = '16-12-10'\n",
    "n = 11\n",
    "\n",
    "result = get_date_before(date, n)\n",
    "print(result)"
   ]
  },
  {
   "cell_type": "markdown",
   "id": "3ca7d9d1",
   "metadata": {},
   "source": [
    "# Question 11"
   ]
  },
  {
   "cell_type": "code",
   "execution_count": 35,
   "id": "e821f18f",
   "metadata": {},
   "outputs": [
    {
     "name": "stdout",
     "output_type": "stream",
     "text": [
      "[0, 1]\n",
      "[3, 2, 1, 0, 1, 4]\n",
      "[0, 1, 0, 1, 4]\n"
     ]
    }
   ],
   "source": [
    "def f(x, l=[]):\n",
    "    for i in range(x):\n",
    "        l.append(i * i)\n",
    "    print(l)\n",
    "\n",
    "f(2)\n",
    "f(3, [3, 2, 1])\n",
    "f(3)"
   ]
  },
  {
   "cell_type": "markdown",
   "id": "cc277f96",
   "metadata": {},
   "source": [
    "In the first call to f(2), the function appends 0 and 1 to the default list l, resulting in [0, 1]\n",
    "In the second call to f(3, [3, 2, 1]), the function appends 0, 1, and 4 to the provided list [3, 2, 1], resulting in [3, 2, 1, 0, 1, 4].\n",
    "In the third call to f(3), since no list is provided as an argument, the default list l from the previous calls is used. The function appends 0, 1, and 4 to the existing list [0, 1, 4], resulting in [0, 1, 4, 0, 1, 4]."
   ]
  },
  {
   "cell_type": "markdown",
   "id": "b9ac98c4",
   "metadata": {},
   "source": [
    "So the correct code after removing this mistake will be"
   ]
  },
  {
   "cell_type": "code",
   "execution_count": 37,
   "id": "f9583f47",
   "metadata": {},
   "outputs": [
    {
     "name": "stdout",
     "output_type": "stream",
     "text": [
      "[0, 1]\n",
      "[3, 2, 1, 0, 1, 4]\n",
      "[0, 1, 4]\n"
     ]
    }
   ],
   "source": [
    "def f(x, l=None):\n",
    "    if l is None:\n",
    "        l = []\n",
    "    for i in range(x):\n",
    "        l.append(i * i)\n",
    "    print(l)\n",
    "f(2)\n",
    "f(3, [3, 2, 1])\n",
    "f(3)"
   ]
  },
  {
   "cell_type": "code",
   "execution_count": null,
   "id": "1fb94090",
   "metadata": {},
   "outputs": [],
   "source": []
  }
 ],
 "metadata": {
  "kernelspec": {
   "display_name": "Python 3 (ipykernel)",
   "language": "python",
   "name": "python3"
  },
  "language_info": {
   "codemirror_mode": {
    "name": "ipython",
    "version": 3
   },
   "file_extension": ".py",
   "mimetype": "text/x-python",
   "name": "python",
   "nbconvert_exporter": "python",
   "pygments_lexer": "ipython3",
   "version": "3.10.9"
  }
 },
 "nbformat": 4,
 "nbformat_minor": 5
}
